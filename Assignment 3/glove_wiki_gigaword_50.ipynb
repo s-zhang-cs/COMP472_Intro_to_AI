{
 "cells": [
  {
   "cell_type": "code",
   "execution_count": 1,
   "metadata": {},
   "outputs": [],
   "source": [
    "from gensim import downloader"
   ]
  },
  {
   "cell_type": "code",
   "execution_count": 2,
   "metadata": {},
   "outputs": [
    {
     "name": "stdout",
     "output_type": "stream",
     "text": [
      "[==================================================] 100.0% 66.0/66.0MB downloaded\n"
     ]
    }
   ],
   "source": [
    "glove_wiki_gigaword_50 = downloader.load(\"glove-wiki-gigaword-50\")"
   ]
  },
  {
   "cell_type": "code",
   "execution_count": 3,
   "metadata": {},
   "outputs": [],
   "source": [
    "import random"
   ]
  },
  {
   "cell_type": "code",
   "execution_count": 4,
   "metadata": {},
   "outputs": [],
   "source": [
    "def guessWord(candidates):\n",
    "    guess = random.randint(0, len(candidates) - 1)\n",
    "    return candidates[guess]"
   ]
  },
  {
   "cell_type": "code",
   "execution_count": 6,
   "metadata": {},
   "outputs": [
    {
     "name": "stdout",
     "output_type": "stream",
     "text": [
      "verbosely(synonym candidate) is absent from model\n",
      "bipartisanly(synonym candidate) is absent from model\n",
      "apathetically(synonym candidate) is absent from model\n"
     ]
    }
   ],
   "source": [
    "question_words = []\n",
    "answer_words = []\n",
    "guess_words = []\n",
    "is_guess = []\n",
    "\n",
    "with open(\"synonym_test_dataset.txt\", \"r\") as file:\n",
    "    lineNo = 0\n",
    "    for line in file:\n",
    "        lineNo = lineNo + 1\n",
    "        # new word\n",
    "        if(lineNo % 6 == 1):\n",
    "            word = line.split()[1]\n",
    "            question_words.append(word)\n",
    "            if word not in glove_wiki_gigaword_50.key_to_index.keys():\n",
    "                print(word + \"(query word) is absent from model\")\n",
    "                guess = True;\n",
    "            else:\n",
    "                guess = False;\n",
    "            candidates = []\n",
    "            candidate_similarity = 0\n",
    "            best_candidate = \"\"\n",
    "            candidate_guess = 0\n",
    "        # answer\n",
    "        elif(lineNo % 6 == 0):\n",
    "            if guess or candidate_guess == 4:\n",
    "                guess_words.append(guessWord(candidates))\n",
    "                is_guess.append(True)\n",
    "            else:\n",
    "                guess_words.append(best_candidate)\n",
    "                is_guess.append(False)\n",
    "            if line == 'a\\n' or line == 'a':\n",
    "                answer_words.append(candidates[0])\n",
    "            elif line == 'b\\n' or line == 'b':\n",
    "                answer_words.append(candidates[1])\n",
    "            elif line == 'c\\n' or line == 'c':\n",
    "                answer_words.append(candidates[2])\n",
    "            elif line == 'd\\n' or line == 'd':\n",
    "                answer_words.append(candidates[3])\n",
    "        # candidate synonyms\n",
    "        else:\n",
    "            candidate = line.split()[1]\n",
    "            candidates.append(candidate)\n",
    "            if candidate not in glove_wiki_gigaword_50.key_to_index.keys():\n",
    "                print(candidate + \"(synonym candidate) is absent from model\")\n",
    "                candidate_guess = candidate_guess + 1\n",
    "            elif not guess:\n",
    "                similarity = glove_wiki_gigaword_50.similarity(candidate, question_words[-1])\n",
    "                if similarity > candidate_similarity:\n",
    "                    candidate_similarity = similarity\n",
    "                    best_candidate = candidate\n",
    "\n",
    "model_name = \"glove-wiki-gigaword-50\"\n",
    "size_vocab = len(glove_wiki_gigaword_50.key_to_index)\n",
    "correct_label = 0\n",
    "no_guessing = 80\n",
    "with open(model_name + \"-details.csv\", \"w+\") as file:\n",
    "    for i in range(0, len(question_words)):\n",
    "        line = question_words[i] + \",\" + answer_words[i] + \",\" + guess_words[i] + \",\"\n",
    "        if(is_guess[i]):\n",
    "            line = line + \"guess\"\n",
    "            no_guessing = no_guessing - 1\n",
    "        elif(answer_words[i] == guess_words[i]):\n",
    "            line = line + \"correct\"\n",
    "            correct_label = correct_label + 1\n",
    "        elif(answer_words[i] != guess_words[i]):\n",
    "            line = line + \"wrong\"\n",
    "        file.write(line + \"\\n\")\n",
    "        \n",
    "with open(\"analysis.csv\", \"a\") as file:\n",
    "    line = model_name + \",\" + str(size_vocab) + \",\" + str(correct_label) + \",\" + str(no_guessing) + \",\" + str(correct_label/no_guessing)\n",
    "    file.write(line + \"\\n\")"
   ]
  },
  {
   "cell_type": "code",
   "execution_count": 7,
   "metadata": {},
   "outputs": [],
   "source": [
    "import gc"
   ]
  },
  {
   "cell_type": "code",
   "execution_count": null,
   "metadata": {},
   "outputs": [],
   "source": [
    "# free memory\n",
    "del glove_wiki_gigaword_50\n",
    "gc.collect()"
   ]
  }
 ],
 "metadata": {
  "kernelspec": {
   "display_name": "Python 3",
   "language": "python",
   "name": "python3"
  },
  "language_info": {
   "codemirror_mode": {
    "name": "ipython",
    "version": 3
   },
   "file_extension": ".py",
   "mimetype": "text/x-python",
   "name": "python",
   "nbconvert_exporter": "python",
   "pygments_lexer": "ipython3",
   "version": "3.7.6"
  }
 },
 "nbformat": 4,
 "nbformat_minor": 4
}
